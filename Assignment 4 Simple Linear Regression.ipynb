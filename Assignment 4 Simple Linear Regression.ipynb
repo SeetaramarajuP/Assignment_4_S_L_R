{
  "cells": [
    {
      "metadata": {},
      "id": "9180f9f8",
      "cell_type": "markdown",
      "source": "QUESTION 1 ( DELIVERY TIME)"
    },
    {
      "metadata": {
        "ExecuteTime": {
          "end_time": "2023-05-24T15:50:39.401525Z",
          "start_time": "2023-05-24T15:50:36.082982Z"
        },
        "trusted": false
      },
      "id": "5bd9730a",
      "cell_type": "code",
      "source": "import pandas as pd\nimport matplotlib.pyplot as plt \nimport seaborn as sns\nimport numpy as np\nimport statsmodels.formula.api as smf",
      "execution_count": 1,
      "outputs": []
    },
    {
      "metadata": {
        "ExecuteTime": {
          "end_time": "2023-05-24T15:50:55.819132Z",
          "start_time": "2023-05-24T15:50:55.731351Z"
        },
        "trusted": false
      },
      "id": "e9a76fec",
      "cell_type": "code",
      "source": "DT=pd.read_csv('delivery_time.csv')\nDT",
      "execution_count": 2,
      "outputs": [
        {
          "data": {
            "text/html": "<div>\n<style scoped>\n    .dataframe tbody tr th:only-of-type {\n        vertical-align: middle;\n    }\n\n    .dataframe tbody tr th {\n        vertical-align: top;\n    }\n\n    .dataframe thead th {\n        text-align: right;\n    }\n</style>\n<table border=\"1\" class=\"dataframe\">\n  <thead>\n    <tr style=\"text-align: right;\">\n      <th></th>\n      <th>Delivery Time</th>\n      <th>Sorting Time</th>\n    </tr>\n  </thead>\n  <tbody>\n    <tr>\n      <th>0</th>\n      <td>21.00</td>\n      <td>10</td>\n    </tr>\n    <tr>\n      <th>1</th>\n      <td>13.50</td>\n      <td>4</td>\n    </tr>\n    <tr>\n      <th>2</th>\n      <td>19.75</td>\n      <td>6</td>\n    </tr>\n    <tr>\n      <th>3</th>\n      <td>24.00</td>\n      <td>9</td>\n    </tr>\n    <tr>\n      <th>4</th>\n      <td>29.00</td>\n      <td>10</td>\n    </tr>\n    <tr>\n      <th>5</th>\n      <td>15.35</td>\n      <td>6</td>\n    </tr>\n    <tr>\n      <th>6</th>\n      <td>19.00</td>\n      <td>7</td>\n    </tr>\n    <tr>\n      <th>7</th>\n      <td>9.50</td>\n      <td>3</td>\n    </tr>\n    <tr>\n      <th>8</th>\n      <td>17.90</td>\n      <td>10</td>\n    </tr>\n    <tr>\n      <th>9</th>\n      <td>18.75</td>\n      <td>9</td>\n    </tr>\n    <tr>\n      <th>10</th>\n      <td>19.83</td>\n      <td>8</td>\n    </tr>\n    <tr>\n      <th>11</th>\n      <td>10.75</td>\n      <td>4</td>\n    </tr>\n    <tr>\n      <th>12</th>\n      <td>16.68</td>\n      <td>7</td>\n    </tr>\n    <tr>\n      <th>13</th>\n      <td>11.50</td>\n      <td>3</td>\n    </tr>\n    <tr>\n      <th>14</th>\n      <td>12.03</td>\n      <td>3</td>\n    </tr>\n    <tr>\n      <th>15</th>\n      <td>14.88</td>\n      <td>4</td>\n    </tr>\n    <tr>\n      <th>16</th>\n      <td>13.75</td>\n      <td>6</td>\n    </tr>\n    <tr>\n      <th>17</th>\n      <td>18.11</td>\n      <td>7</td>\n    </tr>\n    <tr>\n      <th>18</th>\n      <td>8.00</td>\n      <td>2</td>\n    </tr>\n    <tr>\n      <th>19</th>\n      <td>17.83</td>\n      <td>7</td>\n    </tr>\n    <tr>\n      <th>20</th>\n      <td>21.50</td>\n      <td>5</td>\n    </tr>\n  </tbody>\n</table>\n</div>",
            "text/plain": "    Delivery Time  Sorting Time\n0           21.00            10\n1           13.50             4\n2           19.75             6\n3           24.00             9\n4           29.00            10\n5           15.35             6\n6           19.00             7\n7            9.50             3\n8           17.90            10\n9           18.75             9\n10          19.83             8\n11          10.75             4\n12          16.68             7\n13          11.50             3\n14          12.03             3\n15          14.88             4\n16          13.75             6\n17          18.11             7\n18           8.00             2\n19          17.83             7\n20          21.50             5"
          },
          "execution_count": 2,
          "metadata": {},
          "output_type": "execute_result"
        }
      ]
    },
    {
      "metadata": {
        "ExecuteTime": {
          "end_time": "2023-05-24T15:52:55.186294Z",
          "start_time": "2023-05-24T15:52:55.143522Z"
        },
        "trusted": false
      },
      "id": "f46beacf",
      "cell_type": "code",
      "source": "DT.corr()",
      "execution_count": 3,
      "outputs": [
        {
          "data": {
            "text/html": "<div>\n<style scoped>\n    .dataframe tbody tr th:only-of-type {\n        vertical-align: middle;\n    }\n\n    .dataframe tbody tr th {\n        vertical-align: top;\n    }\n\n    .dataframe thead th {\n        text-align: right;\n    }\n</style>\n<table border=\"1\" class=\"dataframe\">\n  <thead>\n    <tr style=\"text-align: right;\">\n      <th></th>\n      <th>Delivery Time</th>\n      <th>Sorting Time</th>\n    </tr>\n  </thead>\n  <tbody>\n    <tr>\n      <th>Delivery Time</th>\n      <td>1.000000</td>\n      <td>0.825997</td>\n    </tr>\n    <tr>\n      <th>Sorting Time</th>\n      <td>0.825997</td>\n      <td>1.000000</td>\n    </tr>\n  </tbody>\n</table>\n</div>",
            "text/plain": "               Delivery Time  Sorting Time\nDelivery Time       1.000000      0.825997\nSorting Time        0.825997      1.000000"
          },
          "execution_count": 3,
          "metadata": {},
          "output_type": "execute_result"
        }
      ]
    },
    {
      "metadata": {
        "ExecuteTime": {
          "end_time": "2023-05-24T15:55:49.838502Z",
          "start_time": "2023-05-24T15:55:48.527574Z"
        },
        "trusted": false
      },
      "id": "1f98025e",
      "cell_type": "code",
      "source": "plt.plot(DT['Sorting Time'],DT['Delivery Time'],'ro')\nplt.xlabel('Sorting')\nplt.ylabel('Delivery')",
      "execution_count": 4,
      "outputs": [
        {
          "data": {
            "text/plain": "Text(0, 0.5, 'Delivery')"
          },
          "execution_count": 4,
          "metadata": {},
          "output_type": "execute_result"
        },
        {
          "data": {
            "image/png": "[encoded data removed]",
            "text/plain": "<Figure size 432x288 with 1 Axes>"
          },
          "metadata": {
            "needs_background": "light"
          },
          "output_type": "display_data"
        }
      ]
    },
    {
      "metadata": {
        "ExecuteTime": {
          "end_time": "2023-05-24T15:59:05.940182Z",
          "start_time": "2023-05-24T15:59:05.460457Z"
        },
        "trusted": false
      },
      "id": "b79666b9",
      "cell_type": "code",
      "source": "sns.regplot(x='Sorting Time',y='Delivery Time',data=DT)",
      "execution_count": 5,
      "outputs": [
        {
          "data": {
            "text/plain": "<AxesSubplot:xlabel='Sorting Time', ylabel='Delivery Time'>"
          },
          "execution_count": 5,
          "metadata": {},
          "output_type": "execute_result"
        },
        {
          "data": {
            "image/png": "[encoded data removed]",
            "text/plain": "<Figure size 432x288 with 1 Axes>"
          },
          "metadata": {
            "needs_background": "light"
          },
          "output_type": "display_data"
        }
      ]
    },
    {
      "metadata": {
        "ExecuteTime": {
          "end_time": "2023-05-24T16:01:14.580937Z",
          "start_time": "2023-05-24T16:01:14.541871Z"
        },
        "trusted": false
      },
      "id": "8a00e1f8",
      "cell_type": "code",
      "source": "DT=DT.rename({'Sorting Time':'Sorting_Time','Delivery Time':'Delivery_Time'},axis=1)\nDT",
      "execution_count": 8,
      "outputs": [
        {
          "data": {
            "text/html": "<div>\n<style scoped>\n    .dataframe tbody tr th:only-of-type {\n        vertical-align: middle;\n    }\n\n    .dataframe tbody tr th {\n        vertical-align: top;\n    }\n\n    .dataframe thead th {\n        text-align: right;\n    }\n</style>\n<table border=\"1\" class=\"dataframe\">\n  <thead>\n    <tr style=\"text-align: right;\">\n      <th></th>\n      <th>Delivery_Time</th>\n      <th>Sorting_Time</th>\n    </tr>\n  </thead>\n  <tbody>\n    <tr>\n      <th>0</th>\n      <td>21.00</td>\n      <td>10</td>\n    </tr>\n    <tr>\n      <th>1</th>\n      <td>13.50</td>\n      <td>4</td>\n    </tr>\n    <tr>\n      <th>2</th>\n      <td>19.75</td>\n      <td>6</td>\n    </tr>\n    <tr>\n      <th>3</th>\n      <td>24.00</td>\n      <td>9</td>\n    </tr>\n    <tr>\n      <th>4</th>\n      <td>29.00</td>\n      <td>10</td>\n    </tr>\n    <tr>\n      <th>5</th>\n      <td>15.35</td>\n      <td>6</td>\n    </tr>\n    <tr>\n      <th>6</th>\n      <td>19.00</td>\n      <td>7</td>\n    </tr>\n    <tr>\n      <th>7</th>\n      <td>9.50</td>\n      <td>3</td>\n    </tr>\n    <tr>\n      <th>8</th>\n      <td>17.90</td>\n      <td>10</td>\n    </tr>\n    <tr>\n      <th>9</th>\n      <td>18.75</td>\n      <td>9</td>\n    </tr>\n    <tr>\n      <th>10</th>\n      <td>19.83</td>\n      <td>8</td>\n    </tr>\n    <tr>\n      <th>11</th>\n      <td>10.75</td>\n      <td>4</td>\n    </tr>\n    <tr>\n      <th>12</th>\n      <td>16.68</td>\n      <td>7</td>\n    </tr>\n    <tr>\n      <th>13</th>\n      <td>11.50</td>\n      <td>3</td>\n    </tr>\n    <tr>\n      <th>14</th>\n      <td>12.03</td>\n      <td>3</td>\n    </tr>\n    <tr>\n      <th>15</th>\n      <td>14.88</td>\n      <td>4</td>\n    </tr>\n    <tr>\n      <th>16</th>\n      <td>13.75</td>\n      <td>6</td>\n    </tr>\n    <tr>\n      <th>17</th>\n      <td>18.11</td>\n      <td>7</td>\n    </tr>\n    <tr>\n      <th>18</th>\n      <td>8.00</td>\n      <td>2</td>\n    </tr>\n    <tr>\n      <th>19</th>\n      <td>17.83</td>\n      <td>7</td>\n    </tr>\n    <tr>\n      <th>20</th>\n      <td>21.50</td>\n      <td>5</td>\n    </tr>\n  </tbody>\n</table>\n</div>",
            "text/plain": "    Delivery_Time  Sorting_Time\n0           21.00            10\n1           13.50             4\n2           19.75             6\n3           24.00             9\n4           29.00            10\n5           15.35             6\n6           19.00             7\n7            9.50             3\n8           17.90            10\n9           18.75             9\n10          19.83             8\n11          10.75             4\n12          16.68             7\n13          11.50             3\n14          12.03             3\n15          14.88             4\n16          13.75             6\n17          18.11             7\n18           8.00             2\n19          17.83             7\n20          21.50             5"
          },
          "execution_count": 8,
          "metadata": {},
          "output_type": "execute_result"
        }
      ]
    },
    {
      "metadata": {
        "ExecuteTime": {
          "end_time": "2023-05-24T16:02:10.093827Z",
          "start_time": "2023-05-24T16:02:10.072307Z"
        },
        "trusted": false
      },
      "id": "fbd60ac9",
      "cell_type": "code",
      "source": "model=smf.ols('Delivery_Time~Sorting_Time',data=DT).fit()",
      "execution_count": 9,
      "outputs": []
    },
    {
      "metadata": {
        "ExecuteTime": {
          "end_time": "2023-05-24T16:02:30.599668Z",
          "start_time": "2023-05-24T16:02:30.546542Z"
        },
        "trusted": false
      },
      "id": "724eace8",
      "cell_type": "code",
      "source": "model.summary()",
      "execution_count": 11,
      "outputs": [
        {
          "data": {
            "text/html": "<table class=\"simpletable\">\n<caption>OLS Regression Results</caption>\n<tr>\n  <th>Dep. Variable:</th>      <td>Delivery_Time</td>  <th>  R-squared:         </th> <td>   0.682</td>\n</tr>\n<tr>\n  <th>Model:</th>                   <td>OLS</td>       <th>  Adj. R-squared:    </th> <td>   0.666</td>\n</tr>\n<tr>\n  <th>Method:</th>             <td>Least Squares</td>  <th>  F-statistic:       </th> <td>   40.80</td>\n</tr>\n<tr>\n  <th>Date:</th>             <td>Wed, 24 May 2023</td> <th>  Prob (F-statistic):</th> <td>3.98e-06</td>\n</tr>\n<tr>\n  <th>Time:</th>                 <td>21:32:30</td>     <th>  Log-Likelihood:    </th> <td> -51.357</td>\n</tr>\n<tr>\n  <th>No. Observations:</th>      <td>    21</td>      <th>  AIC:               </th> <td>   106.7</td>\n</tr>\n<tr>\n  <th>Df Residuals:</th>          <td>    19</td>      <th>  BIC:               </th> <td>   108.8</td>\n</tr>\n<tr>\n  <th>Df Model:</th>              <td>     1</td>      <th>                     </th>     <td> </td>   \n</tr>\n<tr>\n  <th>Covariance Type:</th>      <td>nonrobust</td>    <th>                     </th>     <td> </td>   \n</tr>\n</table>\n<table class=\"simpletable\">\n<tr>\n        <td></td>          <th>coef</th>     <th>std err</th>      <th>t</th>      <th>P>|t|</th>  <th>[0.025</th>    <th>0.975]</th>  \n</tr>\n<tr>\n  <th>Intercept</th>    <td>    6.5827</td> <td>    1.722</td> <td>    3.823</td> <td> 0.001</td> <td>    2.979</td> <td>   10.186</td>\n</tr>\n<tr>\n  <th>Sorting_Time</th> <td>    1.6490</td> <td>    0.258</td> <td>    6.387</td> <td> 0.000</td> <td>    1.109</td> <td>    2.189</td>\n</tr>\n</table>\n<table class=\"simpletable\">\n<tr>\n  <th>Omnibus:</th>       <td> 3.649</td> <th>  Durbin-Watson:     </th> <td>   1.248</td>\n</tr>\n<tr>\n  <th>Prob(Omnibus):</th> <td> 0.161</td> <th>  Jarque-Bera (JB):  </th> <td>   2.086</td>\n</tr>\n<tr>\n  <th>Skew:</th>          <td> 0.750</td> <th>  Prob(JB):          </th> <td>   0.352</td>\n</tr>\n<tr>\n  <th>Kurtosis:</th>      <td> 3.367</td> <th>  Cond. No.          </th> <td>    18.3</td>\n</tr>\n</table><br/><br/>Notes:<br/>[1] Standard Errors assume that the covariance matrix of the errors is correctly specified.",
            "text/plain": "<class 'statsmodels.iolib.summary.Summary'>\n\"\"\"\n                            OLS Regression Results                            \n==============================================================================\nDep. Variable:          Delivery_Time   R-squared:                       0.682\nModel:                            OLS   Adj. R-squared:                  0.666\nMethod:                 Least Squares   F-statistic:                     40.80\nDate:                Wed, 24 May 2023   Prob (F-statistic):           3.98e-06\nTime:                        21:32:30   Log-Likelihood:                -51.357\nNo. Observations:                  21   AIC:                             106.7\nDf Residuals:                      19   BIC:                             108.8\nDf Model:                           1                                         \nCovariance Type:            nonrobust                                         \n================================================================================\n                   coef    std err          t      P>|t|      [0.025      0.975]\n--------------------------------------------------------------------------------\nIntercept        6.5827      1.722      3.823      0.001       2.979      10.186\nSorting_Time     1.6490      0.258      6.387      0.000       1.109       2.189\n==============================================================================\nOmnibus:                        3.649   Durbin-Watson:                   1.248\nProb(Omnibus):                  0.161   Jarque-Bera (JB):                2.086\nSkew:                           0.750   Prob(JB):                        0.352\nKurtosis:                       3.367   Cond. No.                         18.3\n==============================================================================\n\nNotes:\n[1] Standard Errors assume that the covariance matrix of the errors is correctly specified.\n\"\"\""
          },
          "execution_count": 11,
          "metadata": {},
          "output_type": "execute_result"
        }
      ]
    },
    {
      "metadata": {
        "ExecuteTime": {
          "end_time": "2023-05-24T16:17:20.680298Z",
          "start_time": "2023-05-24T16:17:20.646932Z"
        },
        "trusted": false
      },
      "id": "7d73cd14",
      "cell_type": "code",
      "source": "new_data=pd.Series([5,7,9,3])\ndata_pred=pd.DataFrame(new_data,columns=['Sorting_Time'])\nmodel.predict(data_pred)",
      "execution_count": 21,
      "outputs": [
        {
          "data": {
            "text/plain": "0    14.827833\n1    18.125873\n2    21.423913\n3    11.529794\ndtype: float64"
          },
          "execution_count": 21,
          "metadata": {},
          "output_type": "execute_result"
        }
      ]
    },
    {
      "metadata": {
        "trusted": false
      },
      "id": "b48e5f75",
      "cell_type": "code",
      "source": "#Manual\nDelivery_Time=6.5827+(1.6490)*Sorting_Time",
      "execution_count": null,
      "outputs": []
    },
    {
      "metadata": {},
      "id": "d2819f0c",
      "cell_type": "markdown",
      "source": "QUESTION 2 (Salary Hike)"
    },
    {
      "metadata": {
        "ExecuteTime": {
          "end_time": "2023-05-24T16:22:18.294023Z",
          "start_time": "2023-05-24T16:22:18.221358Z"
        },
        "trusted": false
      },
      "id": "8ac094b1",
      "cell_type": "code",
      "source": "SD=pd.read_csv('Salary_Data.csv')\nSD",
      "execution_count": 22,
      "outputs": [
        {
          "data": {
            "text/html": "<div>\n<style scoped>\n    .dataframe tbody tr th:only-of-type {\n        vertical-align: middle;\n    }\n\n    .dataframe tbody tr th {\n        vertical-align: top;\n    }\n\n    .dataframe thead th {\n        text-align: right;\n    }\n</style>\n<table border=\"1\" class=\"dataframe\">\n  <thead>\n    <tr style=\"text-align: right;\">\n      <th></th>\n      <th>YearsExperience</th>\n      <th>Salary</th>\n    </tr>\n  </thead>\n  <tbody>\n    <tr>\n      <th>0</th>\n      <td>1.1</td>\n      <td>39343.0</td>\n    </tr>\n    <tr>\n      <th>1</th>\n      <td>1.3</td>\n      <td>46205.0</td>\n    </tr>\n    <tr>\n      <th>2</th>\n      <td>1.5</td>\n      <td>37731.0</td>\n    </tr>\n    <tr>\n      <th>3</th>\n      <td>2.0</td>\n      <td>43525.0</td>\n    </tr>\n    <tr>\n      <th>4</th>\n      <td>2.2</td>\n      <td>39891.0</td>\n    </tr>\n    <tr>\n      <th>5</th>\n      <td>2.9</td>\n      <td>56642.0</td>\n    </tr>\n    <tr>\n      <th>6</th>\n      <td>3.0</td>\n      <td>60150.0</td>\n    </tr>\n    <tr>\n      <th>7</th>\n      <td>3.2</td>\n      <td>54445.0</td>\n    </tr>\n    <tr>\n      <th>8</th>\n      <td>3.2</td>\n      <td>64445.0</td>\n    </tr>\n    <tr>\n      <th>9</th>\n      <td>3.7</td>\n      <td>57189.0</td>\n    </tr>\n    <tr>\n      <th>10</th>\n      <td>3.9</td>\n      <td>63218.0</td>\n    </tr>\n    <tr>\n      <th>11</th>\n      <td>4.0</td>\n      <td>55794.0</td>\n    </tr>\n    <tr>\n      <th>12</th>\n      <td>4.0</td>\n      <td>56957.0</td>\n    </tr>\n    <tr>\n      <th>13</th>\n      <td>4.1</td>\n      <td>57081.0</td>\n    </tr>\n    <tr>\n      <th>14</th>\n      <td>4.5</td>\n      <td>61111.0</td>\n    </tr>\n    <tr>\n      <th>15</th>\n      <td>4.9</td>\n      <td>67938.0</td>\n    </tr>\n    <tr>\n      <th>16</th>\n      <td>5.1</td>\n      <td>66029.0</td>\n    </tr>\n    <tr>\n      <th>17</th>\n      <td>5.3</td>\n      <td>83088.0</td>\n    </tr>\n    <tr>\n      <th>18</th>\n      <td>5.9</td>\n      <td>81363.0</td>\n    </tr>\n    <tr>\n      <th>19</th>\n      <td>6.0</td>\n      <td>93940.0</td>\n    </tr>\n    <tr>\n      <th>20</th>\n      <td>6.8</td>\n      <td>91738.0</td>\n    </tr>\n    <tr>\n      <th>21</th>\n      <td>7.1</td>\n      <td>98273.0</td>\n    </tr>\n    <tr>\n      <th>22</th>\n      <td>7.9</td>\n      <td>101302.0</td>\n    </tr>\n    <tr>\n      <th>23</th>\n      <td>8.2</td>\n      <td>113812.0</td>\n    </tr>\n    <tr>\n      <th>24</th>\n      <td>8.7</td>\n      <td>109431.0</td>\n    </tr>\n    <tr>\n      <th>25</th>\n      <td>9.0</td>\n      <td>105582.0</td>\n    </tr>\n    <tr>\n      <th>26</th>\n      <td>9.5</td>\n      <td>116969.0</td>\n    </tr>\n    <tr>\n      <th>27</th>\n      <td>9.6</td>\n      <td>112635.0</td>\n    </tr>\n    <tr>\n      <th>28</th>\n      <td>10.3</td>\n      <td>122391.0</td>\n    </tr>\n    <tr>\n      <th>29</th>\n      <td>10.5</td>\n      <td>121872.0</td>\n    </tr>\n  </tbody>\n</table>\n</div>",
            "text/plain": "    YearsExperience    Salary\n0               1.1   39343.0\n1               1.3   46205.0\n2               1.5   37731.0\n3               2.0   43525.0\n4               2.2   39891.0\n5               2.9   56642.0\n6               3.0   60150.0\n7               3.2   54445.0\n8               3.2   64445.0\n9               3.7   57189.0\n10              3.9   63218.0\n11              4.0   55794.0\n12              4.0   56957.0\n13              4.1   57081.0\n14              4.5   61111.0\n15              4.9   67938.0\n16              5.1   66029.0\n17              5.3   83088.0\n18              5.9   81363.0\n19              6.0   93940.0\n20              6.8   91738.0\n21              7.1   98273.0\n22              7.9  101302.0\n23              8.2  113812.0\n24              8.7  109431.0\n25              9.0  105582.0\n26              9.5  116969.0\n27              9.6  112635.0\n28             10.3  122391.0\n29             10.5  121872.0"
          },
          "execution_count": 22,
          "metadata": {},
          "output_type": "execute_result"
        }
      ]
    },
    {
      "metadata": {
        "ExecuteTime": {
          "end_time": "2023-05-24T16:24:13.959389Z",
          "start_time": "2023-05-24T16:24:13.661936Z"
        },
        "trusted": false
      },
      "id": "0839bb38",
      "cell_type": "code",
      "source": "plt.plot(SD.YearsExperience,SD.Salary,'ro')\nplt.xlabel('Years Of Experience')\nplt.ylabel('Salary')",
      "execution_count": 24,
      "outputs": [
        {
          "data": {
            "text/plain": "Text(0, 0.5, 'Salary')"
          },
          "execution_count": 24,
          "metadata": {},
          "output_type": "execute_result"
        },
        {
          "data": {
            "image/png": "[encoded data removed]",
            "text/plain": "<Figure size 432x288 with 1 Axes>"
          },
          "metadata": {
            "needs_background": "light"
          },
          "output_type": "display_data"
        }
      ]
    },
    {
      "metadata": {
        "ExecuteTime": {
          "end_time": "2023-05-24T16:25:32.597650Z",
          "start_time": "2023-05-24T16:25:32.138059Z"
        },
        "trusted": false
      },
      "id": "b68ce110",
      "cell_type": "code",
      "source": "sns.regplot(x='YearsExperience',y='Salary',data=SD)\n",
      "execution_count": 25,
      "outputs": [
        {
          "data": {
            "text/plain": "<AxesSubplot:xlabel='YearsExperience', ylabel='Salary'>"
          },
          "execution_count": 25,
          "metadata": {},
          "output_type": "execute_result"
        },
        {
          "data": {
            "image/png": "[encoded data removed]",
            "text/plain": "<Figure size 432x288 with 1 Axes>"
          },
          "metadata": {
            "needs_background": "light"
          },
          "output_type": "display_data"
        }
      ]
    },
    {
      "metadata": {
        "ExecuteTime": {
          "end_time": "2023-05-24T16:25:49.837828Z",
          "start_time": "2023-05-24T16:25:49.806643Z"
        },
        "trusted": false
      },
      "id": "1de1295a",
      "cell_type": "code",
      "source": "SD.corr()",
      "execution_count": 26,
      "outputs": [
        {
          "data": {
            "text/html": "<div>\n<style scoped>\n    .dataframe tbody tr th:only-of-type {\n        vertical-align: middle;\n    }\n\n    .dataframe tbody tr th {\n        vertical-align: top;\n    }\n\n    .dataframe thead th {\n        text-align: right;\n    }\n</style>\n<table border=\"1\" class=\"dataframe\">\n  <thead>\n    <tr style=\"text-align: right;\">\n      <th></th>\n      <th>YearsExperience</th>\n      <th>Salary</th>\n    </tr>\n  </thead>\n  <tbody>\n    <tr>\n      <th>YearsExperience</th>\n      <td>1.000000</td>\n      <td>0.978242</td>\n    </tr>\n    <tr>\n      <th>Salary</th>\n      <td>0.978242</td>\n      <td>1.000000</td>\n    </tr>\n  </tbody>\n</table>\n</div>",
            "text/plain": "                 YearsExperience    Salary\nYearsExperience         1.000000  0.978242\nSalary                  0.978242  1.000000"
          },
          "execution_count": 26,
          "metadata": {},
          "output_type": "execute_result"
        }
      ]
    },
    {
      "metadata": {
        "ExecuteTime": {
          "end_time": "2023-05-24T16:28:20.941751Z",
          "start_time": "2023-05-24T16:28:20.915752Z"
        },
        "trusted": false
      },
      "id": "7e97395f",
      "cell_type": "code",
      "source": "Result=smf.ols('Salary~YearsExperience',data=SD).fit()",
      "execution_count": 28,
      "outputs": []
    },
    {
      "metadata": {
        "ExecuteTime": {
          "end_time": "2023-05-24T16:28:40.139160Z",
          "start_time": "2023-05-24T16:28:40.086938Z"
        },
        "trusted": false
      },
      "id": "716c8430",
      "cell_type": "code",
      "source": "Result.summary()",
      "execution_count": 29,
      "outputs": [
        {
          "data": {
            "text/html": "<table class=\"simpletable\">\n<caption>OLS Regression Results</caption>\n<tr>\n  <th>Dep. Variable:</th>         <td>Salary</td>      <th>  R-squared:         </th> <td>   0.957</td>\n</tr>\n<tr>\n  <th>Model:</th>                   <td>OLS</td>       <th>  Adj. R-squared:    </th> <td>   0.955</td>\n</tr>\n<tr>\n  <th>Method:</th>             <td>Least Squares</td>  <th>  F-statistic:       </th> <td>   622.5</td>\n</tr>\n<tr>\n  <th>Date:</th>             <td>Wed, 24 May 2023</td> <th>  Prob (F-statistic):</th> <td>1.14e-20</td>\n</tr>\n<tr>\n  <th>Time:</th>                 <td>21:58:40</td>     <th>  Log-Likelihood:    </th> <td> -301.44</td>\n</tr>\n<tr>\n  <th>No. Observations:</th>      <td>    30</td>      <th>  AIC:               </th> <td>   606.9</td>\n</tr>\n<tr>\n  <th>Df Residuals:</th>          <td>    28</td>      <th>  BIC:               </th> <td>   609.7</td>\n</tr>\n<tr>\n  <th>Df Model:</th>              <td>     1</td>      <th>                     </th>     <td> </td>   \n</tr>\n<tr>\n  <th>Covariance Type:</th>      <td>nonrobust</td>    <th>                     </th>     <td> </td>   \n</tr>\n</table>\n<table class=\"simpletable\">\n<tr>\n         <td></td>            <th>coef</th>     <th>std err</th>      <th>t</th>      <th>P>|t|</th>  <th>[0.025</th>    <th>0.975]</th>  \n</tr>\n<tr>\n  <th>Intercept</th>       <td> 2.579e+04</td> <td> 2273.053</td> <td>   11.347</td> <td> 0.000</td> <td> 2.11e+04</td> <td> 3.04e+04</td>\n</tr>\n<tr>\n  <th>YearsExperience</th> <td> 9449.9623</td> <td>  378.755</td> <td>   24.950</td> <td> 0.000</td> <td> 8674.119</td> <td> 1.02e+04</td>\n</tr>\n</table>\n<table class=\"simpletable\">\n<tr>\n  <th>Omnibus:</th>       <td> 2.140</td> <th>  Durbin-Watson:     </th> <td>   1.648</td>\n</tr>\n<tr>\n  <th>Prob(Omnibus):</th> <td> 0.343</td> <th>  Jarque-Bera (JB):  </th> <td>   1.569</td>\n</tr>\n<tr>\n  <th>Skew:</th>          <td> 0.363</td> <th>  Prob(JB):          </th> <td>   0.456</td>\n</tr>\n<tr>\n  <th>Kurtosis:</th>      <td> 2.147</td> <th>  Cond. No.          </th> <td>    13.2</td>\n</tr>\n</table><br/><br/>Notes:<br/>[1] Standard Errors assume that the covariance matrix of the errors is correctly specified.",
            "text/plain": "<class 'statsmodels.iolib.summary.Summary'>\n\"\"\"\n                            OLS Regression Results                            \n==============================================================================\nDep. Variable:                 Salary   R-squared:                       0.957\nModel:                            OLS   Adj. R-squared:                  0.955\nMethod:                 Least Squares   F-statistic:                     622.5\nDate:                Wed, 24 May 2023   Prob (F-statistic):           1.14e-20\nTime:                        21:58:40   Log-Likelihood:                -301.44\nNo. Observations:                  30   AIC:                             606.9\nDf Residuals:                      28   BIC:                             609.7\nDf Model:                           1                                         \nCovariance Type:            nonrobust                                         \n===================================================================================\n                      coef    std err          t      P>|t|      [0.025      0.975]\n-----------------------------------------------------------------------------------\nIntercept        2.579e+04   2273.053     11.347      0.000    2.11e+04    3.04e+04\nYearsExperience  9449.9623    378.755     24.950      0.000    8674.119    1.02e+04\n==============================================================================\nOmnibus:                        2.140   Durbin-Watson:                   1.648\nProb(Omnibus):                  0.343   Jarque-Bera (JB):                1.569\nSkew:                           0.363   Prob(JB):                        0.456\nKurtosis:                       2.147   Cond. No.                         13.2\n==============================================================================\n\nNotes:\n[1] Standard Errors assume that the covariance matrix of the errors is correctly specified.\n\"\"\""
          },
          "execution_count": 29,
          "metadata": {},
          "output_type": "execute_result"
        }
      ]
    },
    {
      "metadata": {
        "ExecuteTime": {
          "end_time": "2023-05-24T16:33:15.110217Z",
          "start_time": "2023-05-24T16:33:15.078213Z"
        },
        "trusted": false
      },
      "id": "9bdc93a9",
      "cell_type": "code",
      "source": "Data=pd.Series([2.3,3.2,4.7,5.4])\nData_pred=pd.DataFrame(Data,columns=['YearsExperience'])\nResult.predict(Data_pred)",
      "execution_count": 31,
      "outputs": [
        {
          "data": {
            "text/plain": "0    47527.113538\n1    56032.079627\n2    70207.023110\n3    76821.996735\ndtype: float64"
          },
          "execution_count": 31,
          "metadata": {},
          "output_type": "execute_result"
        }
      ]
    },
    {
      "metadata": {
        "trusted": false
      },
      "id": "86aa0c18",
      "cell_type": "code",
      "source": "# Manual\nSalary=2.578*10^4 +9449.96*YearsExperience\n",
      "execution_count": null,
      "outputs": []
    }
  ],
  "metadata": {
    "kernelspec": {
      "name": "python3",
      "display_name": "Python 3 (ipykernel)",
      "language": "python"
    },
    "language_info": {
      "name": "python",
      "version": "3.9.12",
      "mimetype": "text/x-python",
      "codemirror_mode": {
        "name": "ipython",
        "version": 3
      },
      "pygments_lexer": "ipython3",
      "nbconvert_exporter": "python",
      "file_extension": ".py"
    },
    "gist": {
      "id": "",
      "data": {
        "description": "Assignment 4 Simple Linear Regression.ipynb",
        "public": true
      }
    }
  },
  "nbformat": 4,
  "nbformat_minor": 5
}